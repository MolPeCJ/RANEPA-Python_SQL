{
 "cells": [
  {
   "attachments": {},
   "cell_type": "markdown",
   "metadata": {},
   "source": [
    "### Библиотека Pathlib - пишем программу для любой операционной системы"
   ]
  },
  {
   "cell_type": "code",
   "execution_count": 1,
   "metadata": {},
   "outputs": [],
   "source": [
    "from pathlib import Path"
   ]
  },
  {
   "cell_type": "code",
   "execution_count": null,
   "metadata": {},
   "outputs": [],
   "source": [
    "myDir = Path().cwd()\n",
    "myDir"
   ]
  },
  {
   "cell_type": "code",
   "execution_count": null,
   "metadata": {},
   "outputs": [],
   "source": [
    "Path().home()"
   ]
  },
  {
   "attachments": {},
   "cell_type": "markdown",
   "metadata": {},
   "source": [
    "### Проверка на существование пути (папки или файла)"
   ]
  },
  {
   "cell_type": "code",
   "execution_count": null,
   "metadata": {},
   "outputs": [],
   "source": [
    "path = Path().home() / 'Desktop'\n",
    "path"
   ]
  },
  {
   "cell_type": "code",
   "execution_count": null,
   "metadata": {},
   "outputs": [],
   "source": [
    "path.exists()"
   ]
  },
  {
   "cell_type": "code",
   "execution_count": null,
   "metadata": {},
   "outputs": [],
   "source": [
    "(path / \"На аву.png\").exists()"
   ]
  },
  {
   "attachments": {},
   "cell_type": "markdown",
   "metadata": {},
   "source": [
    "### Создание папки"
   ]
  },
  {
   "cell_type": "code",
   "execution_count": null,
   "metadata": {},
   "outputs": [],
   "source": [
    "newPath = path / 'new_data'\n",
    "newPath.mkdir(exist_ok = True) # проверка для избежания повторого создания -> ошибки\n",
    "newPath.exists()"
   ]
  },
  {
   "cell_type": "code",
   "execution_count": null,
   "metadata": {},
   "outputs": [],
   "source": [
    "newDeepPath = path / 'some' / 'deep' / 'path'\n",
    "newDeepPath.mkdir(exist_ok = True, parents = True) # parents чтобы создавать все папки по пути и избежать ошибки\n",
    "newDeepPath"
   ]
  },
  {
   "attachments": {},
   "cell_type": "markdown",
   "metadata": {},
   "source": [
    "### Просмотр элементов папки"
   ]
  },
  {
   "cell_type": "code",
   "execution_count": null,
   "metadata": {},
   "outputs": [],
   "source": [
    "# list((path / 'Projects').iterdir())\n",
    "pathProjectsElements = (path / 'Projects').iterdir()\n",
    "for n in pathProjectsElements:\n",
    "    print(n)"
   ]
  },
  {
   "cell_type": "code",
   "execution_count": null,
   "metadata": {},
   "outputs": [],
   "source": [
    "# Найти (рекурсивно) все файлы определённого типа внутри папки и всех её подпапок\n",
    "dataPath = Path().home() / 'Desktop'\n",
    "# path = [p for p in dataPath.rglob('*.zip')]\n",
    "path = [p for p in (dataPath / 'Pandas').glob('**/*.csv')]\n",
    "path"
   ]
  },
  {
   "cell_type": "code",
   "execution_count": null,
   "metadata": {},
   "outputs": [],
   "source": [
    "# Поиск папок только непосредственно внутри, нерекурсивно \n",
    "dirs = [p.name for p in (dataPath / 'Pandas').iterdir() if p.is_dir()]\n",
    "dirs"
   ]
  },
  {
   "cell_type": "code",
   "execution_count": null,
   "metadata": {},
   "outputs": [],
   "source": [
    "# Найти (рекурсивно) все папки внутри папки\n",
    "path = [p for p in (dataPath / 'Pandas').glob('*') if p.is_dir()]\n",
    "path"
   ]
  },
  {
   "attachments": {},
   "cell_type": "markdown",
   "metadata": {},
   "source": [
    "### Удаление файлов и папок"
   ]
  },
  {
   "cell_type": "code",
   "execution_count": 106,
   "metadata": {},
   "outputs": [],
   "source": [
    "toDelete = dataPath / 'some' / 'deep' / 'ForExample.txt'\n",
    "toDelete.exists()\n",
    "toDelete.unlink(missing_ok = True) # проверка для избежания повторого удаления -> ошибки"
   ]
  },
  {
   "cell_type": "code",
   "execution_count": 105,
   "metadata": {},
   "outputs": [],
   "source": [
    "# Удалить пустую папку, если она существует\n",
    "toDelete = toDelete = dataPath / 'some' / 'deep'\n",
    "if (toDelete.exists()):\n",
    "    toDelete.rmdir()"
   ]
  },
  {
   "cell_type": "code",
   "execution_count": null,
   "metadata": {},
   "outputs": [],
   "source": [
    "# Удалить непустую папку - очень опасная штука\n",
    "from shutil import rmtree\n",
    "\n",
    "pathToDel = dataPath / 'some'\n",
    "rmtree(pathToDel)"
   ]
  },
  {
   "cell_type": "markdown",
   "metadata": {},
   "source": [
    "### Доступ к содержимому файла"
   ]
  },
  {
   "cell_type": "code",
   "execution_count": null,
   "metadata": {},
   "outputs": [],
   "source": [
    "file = dataPath / 'Pandas' / 'data.log.csv'\n",
    "file.read_text()\n",
    "\n",
    "# Метаданные\n",
    "print(file.stat())"
   ]
  },
  {
   "cell_type": "code",
   "execution_count": null,
   "metadata": {},
   "outputs": [],
   "source": [
    "newFile = Path('dataPath/new_data/mySampleDataFile.csv') # но сам он не создан\n",
    "newFile.name\n",
    "newFile.stem\n",
    "newFile.suffix"
   ]
  },
  {
   "cell_type": "code",
   "execution_count": null,
   "metadata": {},
   "outputs": [],
   "source": [
    "# v1\n",
    "writeFile = Path(dataPath / 'new_data' / 'example.txt') # а теперь создал\n",
    "writeFile.write_text('TXT TXT TXT') # записываем в файл"
   ]
  },
  {
   "cell_type": "code",
   "execution_count": 151,
   "metadata": {},
   "outputs": [],
   "source": [
    "# v2\n",
    "fd = writeFile.open('a')\n",
    "fd.write('TEXT EXAMPLE')\n",
    "fd.close()"
   ]
  }
 ],
 "metadata": {
  "kernelspec": {
   "display_name": "Python 3",
   "language": "python",
   "name": "python3"
  },
  "language_info": {
   "codemirror_mode": {
    "name": "ipython",
    "version": 3
   },
   "file_extension": ".py",
   "mimetype": "text/x-python",
   "name": "python",
   "nbconvert_exporter": "python",
   "pygments_lexer": "ipython3",
   "version": "3.10.10"
  },
  "orig_nbformat": 4
 },
 "nbformat": 4,
 "nbformat_minor": 2
}
